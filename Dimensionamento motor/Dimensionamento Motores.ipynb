{
 "cells": [
  {
   "cell_type": "code",
   "execution_count": 2,
   "id": "dbafd5db-3775-446c-a233-25d950fb1b83",
   "metadata": {
    "editable": true,
    "scrolled": true,
    "slideshow": {
     "slide_type": ""
    },
    "tags": []
   },
   "outputs": [],
   "source": [
    "import tkinter as tk\n",
    "from tkinter import ttk, messagebox\n",
    "from fractions import Fraction\n",
    "from reportlab.pdfgen import canvas\n",
    "from reportlab.lib.pagesizes import letter\n",
    "import os"
   ]
  },
  {
   "cell_type": "code",
   "execution_count": 3,
   "id": "9abb758c-60a6-4ba8-95e2-416c736816a7",
   "metadata": {},
   "outputs": [],
   "source": [
    "# Tabelas de Demanda em kVA\n",
    "tabela_trifasico = {\n",
    "    Fraction(1, 3): [0.65, 0.98, 1.24, 1.5, 1.76, 1.95, 2.15, 2.34, 2.53, 2.73],\n",
    "    Fraction(1, 2): [0.87, 1.31, 1.65, 2.0, 2.35, 2.61, 2.87, 3.13, 3.39, 3.65],\n",
    "    Fraction(3, 4): [1.26, 1.89, 2.39, 2.9, 3.4, 3.78, 4.16, 4.54, 4.91, 5.29],\n",
    "    Fraction(1, 1): [1.52, 2.28, 2.89, 3.5, 4.1, 4.56, 5.02, 5.47, 5.93, 6.38],\n",
    "    Fraction(3, 2): [2.17, 3.26, 4.12, 4.99, 5.86, 6.51, 7.16, 7.81, 8.46, 9.11],\n",
    "    Fraction(2, 1): [2.7, 4.05, 5.13, 6.21, 7.29, 8.1, 8.91, 9.72, 10.53, 11.34],\n",
    "    Fraction(3, 1): [4.04, 6.06, 7.68, 9.29, 10.91, 12.12, 13.33, 14.54, 15.76, 16.97],\n",
    "    Fraction(4, 1): [5.03, 7.55, 9.56, 11.57, 13.58, 15.09, 16.6, 18.11, 19.62, 21.13],\n",
    "    Fraction(5, 1): [6.02, 9.03, 11.44, 13.85, 16.25, 18.06, 19.87, 21.67, 23.48, 25.28],\n",
    "    Fraction(15, 2): [8.65, 12.98, 16.44, 19.9, 23.36, 25.95, 28.55, 31.14, 33.74, 36.33],\n",
    "    Fraction(10, 1): [11.54, 17.31, 21.93, 26.54, 31.16, 34.62, 38.03, 41.54, 45.01, 48.47],\n",
    "    Fraction(25, 2): [14.09, 21.14, 26.77, 32.41, 38.04, 42.27, 46.5, 50.72, 54.95, 59.18],\n",
    "    Fraction(15, 1): [16.65, 24.98, 31.63, 33.29, 44.96, 49.95, 54.95, 59.94, 64.93, 69.93],\n",
    "    Fraction(20, 1): [22.1, 33.15, 41.99, 50.83, 59.67, 66.3, 72.93, 79.56, 86.19, 92.82],\n",
    "    Fraction(25, 1): [25.83, 38.75, 49.08, 59.41, 69.74, 77.49, 85.24, 92.99, 100.74, 103.49],\n",
    "    Fraction(30, 1): [30.52, 45.78, 57.99, 70.2, 82.4, 91.56, 100.72, 109.87, 119.03, 128.18]\n",
    "}\n",
    "\n",
    "tabela_monofasico = {\n",
    "    Fraction(1, 4): [0.66, 0.99, 1.254, 1.518, 1.782, 1.98, 2.178, 2.376, 2.574, 2.772],\n",
    "    Fraction(1, 3): [0.77, 1.155, 1.463, 1.771, 2.079, 2.31, 2.541, 2.772, 3.003, 3.234],\n",
    "    Fraction(1, 2): [1.18, 1.77, 2.242, 2.714, 3.186, 3.54, 3.894, 4.248, 4.602, 4.956],\n",
    "    Fraction(3, 4): [1.34, 2.01, 2.246, 3.032, 3.618, 4.02, 4.422, 4.824, 5.226, 5.628],\n",
    "    Fraction(1, 1): [1.56, 2.34, 2.964, 3.588, 4.212, 4.68, 5.148, 5.616, 6.084, 6.552],\n",
    "    Fraction(3, 2): [2.35, 3.525, 4.465, 5.405, 6.345, 7.05, 7.755, 8.46, 9.165, 9.87],\n",
    "    Fraction(2, 1): [2.97, 4.455, 5.643, 6.831, 8.019, 8.91, 9.801, 10.692, 11.583, 12.474],\n",
    "    Fraction(3, 1): [4.07, 6.105, 7.733, 9.361, 10.989, 12.21, 13.431, 14.652, 15.873, 17.094],\n",
    "    Fraction(5, 1): [6.16, 9.24, 11.704, 14.168, 16.632, 18.48, 20.328, 22.176, 24.024, 25.872]\n",
    "}\n",
    "\n",
    "fatores_trifasico = {\n",
    "    1: 1, 2: 0.75, 3: 0.633, 4: 0.575, 5: 0.54, 6: 0.5, 7: 0.471, 8: 0.45, 9: 0.433, 10: 0.42\n",
    "}\n",
    "\n",
    "fatores_monofasico = {\n",
    "    1: 1, 2: 0.75, 3: 0.633, 4: 0.575, 5: 0.54, 6: 0.5, 7: 0.471, 8: 0.45, 9: 0.433, 10: 0.42\n",
    "}"
   ]
  },
  {
   "cell_type": "code",
   "execution_count": 4,
   "id": "0fdf924c-501a-488d-9ede-bc38759bdf3e",
   "metadata": {},
   "outputs": [],
   "source": [
    "def atualizar_potencias(event):\n",
    "    tipo = tipo_var.get()\n",
    "    if tipo == 'Trifásico':\n",
    "        potencias = list(tabela_trifasico.keys())\n",
    "    else:\n",
    "        potencias = list(tabela_monofasico.keys())\n",
    "    \n",
    "    potencia_combobox['values'] = [str(p) for p in potencias]\n",
    "    potencia_combobox.current(0)"
   ]
  },
  {
   "cell_type": "code",
   "execution_count": 5,
   "id": "7eda907b-9650-449c-aaff-a48d043809c2",
   "metadata": {},
   "outputs": [],
   "source": [
    "def calcular_kva(tipo, potencia, quantidade):\n",
    "    if tipo == 'Trifásico':\n",
    "        tabela = tabela_trifasico\n",
    "        fator = fatores_trifasico[quantidade]\n",
    "    else:\n",
    "        tabela = tabela_monofasico\n",
    "        fator = fatores_monofasico[quantidade]\n",
    "    \n",
    "    if potencia in tabela:\n",
    "        if 1 <= quantidade <= 10:\n",
    "            return tabela[potencia][quantidade-1], fator\n",
    "        else:\n",
    "            messagebox.showerror(\"Erro\", \"Quantidade de motores deve ser entre 1 e 10.\")\n",
    "    else:\n",
    "        messagebox.showerror(\"Erro\", \"Potência não encontrada na tabela.\")\n",
    "\n",
    "    return None, None"
   ]
  },
  {
   "cell_type": "code",
   "execution_count": 6,
   "id": "245d940b-11ff-4119-9213-3b49b3d4e925",
   "metadata": {},
   "outputs": [],
   "source": [
    "def adicionar_motor():\n",
    "    tipo = tipo_var.get()\n",
    "    potencia = Fraction(potencia_combobox.get())\n",
    "    quantidade = int(quantidade_spinbox.get())\n",
    "    descricao = descricao_entry.get()\n",
    "    kva, fator = calcular_kva(tipo, potencia, quantidade)\n",
    "    \n",
    "    if kva:\n",
    "        lista_motores.insert(\"\", \"end\", values=(tipo, str(potencia), quantidade, f\"{kva:.2f}\", f\"{fator:.3f}\", descricao))\n",
    "        descricao_entry.delete(0, tk.END)\n",
    "    else:\n",
    "        messagebox.showerror(\"Erro\", \"Não foi possível calcular a demanda em kVA.\")"
   ]
  },
  {
   "cell_type": "code",
   "execution_count": 7,
   "id": "a10f2d9f-b204-477a-b7d1-8d4b5e49bee7",
   "metadata": {},
   "outputs": [],
   "source": [
    "def editar_motor():\n",
    "    selected_item = lista_motores.selection()\n",
    "    if selected_item:\n",
    "        item = lista_motores.item(selected_item)\n",
    "        valores = item['values']\n",
    "        \n",
    "        tipo_var.set(valores[0])\n",
    "        potencia_combobox.set(valores[1])\n",
    "        quantidade_spinbox.delete(0, tk.END)\n",
    "        quantidade_spinbox.insert(0, valores[2])\n",
    "        descricao_entry.delete(0, tk.END)\n",
    "        descricao_entry.insert(0, valores[5])\n",
    "        \n",
    "        lista_motores.delete(selected_item)\n",
    "    else:\n",
    "        messagebox.showwarning(\"Atenção\", \"Selecione um motor para editar.\")"
   ]
  },
  {
   "cell_type": "code",
   "execution_count": 8,
   "id": "27d95e9c-5650-450d-896c-d7dcdbce0d0b",
   "metadata": {},
   "outputs": [],
   "source": [
    "def excluir_motor():\n",
    "    selected_item = lista_motores.selection()\n",
    "    if selected_item:\n",
    "        lista_motores.delete(selected_item)\n",
    "    else:\n",
    "        messagebox.showwarning(\"Atenção\", \"Selecione um motor para excluir.\")"
   ]
  },
  {
   "cell_type": "code",
   "execution_count": 9,
   "id": "73468fe9-11c0-4426-92d8-b59608610028",
   "metadata": {},
   "outputs": [],
   "source": [
    "def calcular_total():\n",
    "    total_kva = sum(float(item[3]) for item in lista_motores.get_children())\n",
    "    messagebox.showinfo(\"Total de Demanda\", f\"Demanda total: {total_kva:.2f} kVA\")"
   ]
  },
  {
   "cell_type": "code",
   "execution_count": 10,
   "id": "11f6016d-b7d2-4e90-8117-d98a45fd027d",
   "metadata": {
    "editable": true,
    "slideshow": {
     "slide_type": ""
    },
    "tags": []
   },
   "outputs": [],
   "source": [
    "def gerar_relatorio_pdf():\n",
    "    pdf_path = \"relatorio_demanda_motores.pdf\"\n",
    "    c = canvas.Canvas(pdf_path, pagesize=letter)\n",
    "    width, height = letter\n",
    "    \n",
    "    c.drawString(30, height - 50, \"Relatório de Demanda de Motores\")\n",
    "    \n",
    "    y_position = height - 80\n",
    "    c.drawString(30, y_position, \"Tipo\")\n",
    "    c.drawString(100, y_position, \"Potência (kW)\")\n",
    "    c.drawString(180, y_position, \"Quantidade\")\n",
    "    c.drawString(280, y_position, \"Demanda (kVA)\")\n",
    "    c.drawString(380, y_position, \"FD\")\n",
    "    c.drawString(470, y_position, \"Descrição\")\n",
    "    \n",
    "    y_position -= 20\n",
    "    \n",
    "    total_kva = 0\n",
    "    \n",
    "    for item in lista_motores.get_children():\n",
    "        values = lista_motores.item(item)['values']\n",
    "        c.drawString(30, y_position, values[0])\n",
    "        c.drawString(120, y_position, values[1])\n",
    "        c.drawString(200, y_position, str(values[2]))\n",
    "        c.drawString(300, y_position, values[3])\n",
    "        c.drawString(380, y_position, values[4])\n",
    "        c.drawString(470, y_position, values[5])\n",
    "        y_position -= 20\n",
    "        total_kva += float(values[3])\n",
    "    \n",
    "    y_position -= 20\n",
    "    c.drawString(30, y_position, f\"Demanda Total: {total_kva:.2f} kVA\")\n",
    "    \n",
    "    c.save()\n",
    "    messagebox.showinfo(\"Relatório Gerado\", f\"Relatório gerado com sucesso: {pdf_path}\")"
   ]
  },
  {
   "cell_type": "code",
   "execution_count": 26,
   "id": "66336d6f-f437-469b-9369-d37260499978",
   "metadata": {
    "editable": true,
    "slideshow": {
     "slide_type": ""
    },
    "tags": []
   },
   "outputs": [],
   "source": [
    "root = tk.Tk()\n",
    "root.title(\"Gerenciamento de Motores\")\n",
    "\n",
    "# Tipo de motor\n",
    "tipo_label = tk.Label(root, text=\"Tipo de Motor:\")\n",
    "tipo_label.grid(row=0, column=0, padx=10, pady=10)\n",
    "tipo_var = tk.StringVar(value=\"Trifásico\")\n",
    "tipo_combobox = ttk.Combobox(root, textvariable=tipo_var, values=[\"Trifásico\", \"Monofásico\"])\n",
    "tipo_combobox.grid(row=0, column=1, padx=10, pady=10)\n",
    "tipo_combobox.bind(\"<<ComboboxSelected>>\", atualizar_potencias)\n",
    "\n",
    "# Potência do motor\n",
    "potencia_label = tk.Label(root, text=\"Potência (kW):\")\n",
    "potencia_label.grid(row=1, column=0, padx=10, pady=10)\n",
    "potencia_combobox = ttk.Combobox(root)\n",
    "potencia_combobox.grid(row=1, column=1, padx=10, pady=10)\n",
    "\n",
    "# Quantidade de motores\n",
    "quantidade_label = tk.Label(root, text=\"Quantidade:\")\n",
    "quantidade_label.grid(row=2, column=0, padx=10, pady=10)\n",
    "quantidade_spinbox = tk.Spinbox(root, from_=1, to=10)\n",
    "quantidade_spinbox.grid(row=2, column=1, padx=10, pady=10)\n",
    "\n",
    "# Descrição do motor\n",
    "descricao_label = tk.Label(root, text=\"Descrição:\")\n",
    "descricao_label.grid(row=3, column=0, padx=10, pady=10)\n",
    "descricao_entry = tk.Entry(root)\n",
    "descricao_entry.grid(row=3, column=1, padx=10, pady=10)\n",
    "\n",
    "# Botões\n",
    "adicionar_button = tk.Button(root, text=\"Adicionar Motor\", command=adicionar_motor)\n",
    "adicionar_button.grid(row=4, column=0, padx=10, pady=10)\n",
    "\n",
    "editar_button = tk.Button(root, text=\"Editar Motor\", command=editar_motor)\n",
    "editar_button.grid(row=4, column=1, padx=10, pady=10)\n",
    "\n",
    "excluir_button = tk.Button(root, text=\"Excluir Motor\", command=excluir_motor)\n",
    "excluir_button.grid(row=4, column=2, padx=10, pady=10)\n",
    "\n",
    "calcular_button = tk.Button(root, text=\"Calcular Total\", command=calcular_total)\n",
    "calcular_button.grid(row=5, column=0, padx=10, pady=10)\n",
    "\n",
    "relatorio_button = tk.Button(root, text=\"Gerar Relatório\", command=gerar_relatorio_pdf)\n",
    "relatorio_button.grid(row=5, column=1, padx=10, pady=10)\n",
    "\n",
    "# Lista de motores\n",
    "lista_motores = ttk.Treeview(root, columns=(\"Tipo\", \"Potência\", \"Quantidade\", \"kVA\", \"Fator\", \"Descrição\"), show=\"headings\")\n",
    "lista_motores.heading(\"Tipo\", text=\"Tipo\")\n",
    "lista_motores.heading(\"Potência\", text=\"Potência (kW)\")\n",
    "lista_motores.heading(\"Quantidade\", text=\"Quantidade\")\n",
    "lista_motores.heading(\"kVA\", text=\"Demanda (kVA)\")\n",
    "lista_motores.heading(\"Fator\", text=\"Fator de Demanda (FD)\")\n",
    "lista_motores.heading(\"Descrição\", text=\"Descrição\")\n",
    "\n",
    "lista_motores.grid(row=6, column=0, columnspan=3, padx=10, pady=10)\n",
    "\n",
    "# Inicializa as potências disponíveis com base no tipo de motor padrão\n",
    "atualizar_potencias(None)\n",
    "\n",
    "root.mainloop()\n"
   ]
  },
  {
   "cell_type": "code",
   "execution_count": null,
   "id": "e1b2ccb5-5548-4007-98e6-67aae62548ba",
   "metadata": {
    "editable": true,
    "slideshow": {
     "slide_type": ""
    },
    "tags": []
   },
   "outputs": [],
   "source": []
  }
 ],
 "metadata": {
  "kernelspec": {
   "display_name": "Python 3 (ipykernel)",
   "language": "python",
   "name": "python3"
  },
  "language_info": {
   "codemirror_mode": {
    "name": "ipython",
    "version": 3
   },
   "file_extension": ".py",
   "mimetype": "text/x-python",
   "name": "python",
   "nbconvert_exporter": "python",
   "pygments_lexer": "ipython3",
   "version": "3.12.4"
  }
 },
 "nbformat": 4,
 "nbformat_minor": 5
}
