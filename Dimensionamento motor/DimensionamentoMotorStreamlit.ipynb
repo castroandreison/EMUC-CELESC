{
 "cells": [
  {
   "cell_type": "code",
   "execution_count": 2,
   "id": "105d0622-ae6e-42e5-a262-19e3b8030ec9",
   "metadata": {},
   "outputs": [],
   "source": [
    "import streamlit as st\n",
    "from fractions import Fraction\n",
    "from reportlab.pdfgen import canvas\n",
    "from reportlab.lib.pagesizes import letter\n",
    "import os"
   ]
  },
  {
   "cell_type": "code",
   "execution_count": 5,
   "id": "d91ba159-bddf-4cf1-825e-f504ef578596",
   "metadata": {
    "editable": true,
    "slideshow": {
     "slide_type": ""
    },
    "tags": []
   },
   "outputs": [],
   "source": [
    "# Tabelas de Demanda em kVA\n",
    "tabela_trifasico = {\n",
    "    Fraction(1, 3): [0.65, 0.98, 1.24, 1.5, 1.76, 1.95, 2.15, 2.34, 2.53, 2.73],\n",
    "    Fraction(1, 2): [0.87, 1.31, 1.65, 2.0, 2.35, 2.61, 2.87, 3.13, 3.39, 3.65],\n",
    "    Fraction(3, 4): [1.26, 1.89, 2.39, 2.9, 3.4, 3.78, 4.16, 4.54, 4.91, 5.29],\n",
    "    Fraction(1, 1): [1.52, 2.28, 2.89, 3.5, 4.1, 4.56, 5.02, 5.47, 5.93, 6.38],\n",
    "    Fraction(3, 2): [2.17, 3.26, 4.12, 4.99, 5.86, 6.51, 7.16, 7.81, 8.46, 9.11],\n",
    "    Fraction(2, 1): [2.7, 4.05, 5.13, 6.21, 7.29, 8.1, 8.91, 9.72, 10.53, 11.34],\n",
    "    Fraction(3, 1): [4.04, 6.06, 7.68, 9.29, 10.91, 12.12, 13.33, 14.54, 15.76, 16.97],\n",
    "    Fraction(4, 1): [5.03, 7.55, 9.56, 11.57, 13.58, 15.09, 16.6, 18.11, 19.62, 21.13],\n",
    "    Fraction(5, 1): [6.02, 9.03, 11.44, 13.85, 16.25, 18.06, 19.87, 21.67, 23.48, 25.28],\n",
    "    Fraction(15, 2): [8.65, 12.98, 16.44, 19.9, 23.36, 25.95, 28.55, 31.14, 33.74, 36.33],\n",
    "    Fraction(10, 1): [11.54, 17.31, 21.93, 26.54, 31.16, 34.62, 38.03, 41.54, 45.01, 48.47],\n",
    "    Fraction(25, 2): [14.09, 21.14, 26.77, 32.41, 38.04, 42.27, 46.5, 50.72, 54.95, 59.18],\n",
    "    Fraction(15, 1): [16.65, 24.98, 31.63, 33.29, 44.96, 49.95, 54.95, 59.94, 64.93, 69.93],\n",
    "    Fraction(20, 1): [22.1, 33.15, 41.99, 50.83, 59.67, 66.3, 72.93, 79.56, 86.19, 92.82],\n",
    "    Fraction(25, 1): [25.83, 38.75, 49.08, 59.41, 69.74, 77.49, 85.24, 92.99, 100.74, 103.49],\n",
    "    Fraction(30, 1): [30.52, 45.78, 57.99, 70.2, 82.4, 91.56, 100.72, 109.87, 119.03, 128.18]\n",
    "}\n",
    "\n",
    "tabela_monofasico = {\n",
    "    Fraction(1, 4): [0.66, 0.99, 1.254, 1.518, 1.782, 1.98, 2.178, 2.376, 2.574, 2.772],\n",
    "    Fraction(1, 3): [0.77, 1.155, 1.463, 1.771, 2.079, 2.31, 2.541, 2.772, 3.003, 3.234],\n",
    "    Fraction(1, 2): [1.18, 1.77, 2.242, 2.714, 3.186, 3.54, 3.894, 4.248, 4.602, 4.956],\n",
    "    Fraction(3, 4): [1.34, 2.01, 2.246, 3.032, 3.618, 4.02, 4.422, 4.824, 5.226, 5.628],\n",
    "    Fraction(1, 1): [1.56, 2.34, 2.964, 3.588, 4.212, 4.68, 5.148, 5.616, 6.084, 6.552],\n",
    "    Fraction(3, 2): [2.35, 3.525, 4.465, 5.405, 6.345, 7.05, 7.755, 8.46, 9.165, 9.87],\n",
    "    Fraction(2, 1): [2.97, 4.455, 5.643, 6.831, 8.019, 8.91, 9.801, 10.692, 11.583, 12.474],\n",
    "    Fraction(3, 1): [4.07, 6.105, 7.733, 9.361, 10.989, 12.21, 13.431, 14.652, 15.873, 17.094],\n",
    "    Fraction(5, 1): [6.16, 9.24, 11.704, 14.168, 16.632, 18.48, 20.328, 22.176, 24.024, 25.872]\n",
    "}\n",
    "\n",
    "fatores_trifasico = {\n",
    "    1: 1, 2: 0.75, 3: 0.633, 4: 0.575, 5: 0.54, 6: 0.5, 7: 0.471, 8: 0.45, 9: 0.433, 10: 0.42\n",
    "}\n",
    "\n",
    "fatores_monofasico = {\n",
    "    1: 1, 2: 0.75, 3: 0.633, 4: 0.575, 5: 0.54, 6: 0.5, 7: 0.471, 8: 0.45, 9: 0.433, 10: 0.42\n",
    "}"
   ]
  },
  {
   "cell_type": "code",
   "execution_count": 7,
   "id": "f85064c7-fa93-465f-a767-a758b6e187f0",
   "metadata": {},
   "outputs": [
    {
     "name": "stderr",
     "output_type": "stream",
     "text": [
      "2024-09-04 15:12:54.342 \n",
      "  \u001b[33m\u001b[1mWarning:\u001b[0m to view this Streamlit app on a browser, run it with the following\n",
      "  command:\n",
      "\n",
      "    streamlit run C:\\Users\\an053116\\AppData\\Local\\anaconda3\\Lib\\site-packages\\ipykernel_launcher.py [ARGUMENTS]\n"
     ]
    }
   ],
   "source": [
    "def calcular_kva(tipo, potencia, quantidade):\n",
    "    if tipo == 'Trifásico':\n",
    "        tabela = tabela_trifasico\n",
    "        fator = fatores_trifasico.get(quantidade, None)\n",
    "    else:\n",
    "        tabela = tabela_monofasico\n",
    "        fator = fatores_monofasico.get(quantidade, None)\n",
    "    \n",
    "    if potencia in tabela and fator:\n",
    "        return tabela[potencia][quantidade-1], fator\n",
    "    else:\n",
    "        return None, None\n",
    "\n",
    "def gerar_relatorio_pdf(motores):\n",
    "    pdf_path = \"relatorio_demanda_motores.pdf\"\n",
    "    c = canvas.Canvas(pdf_path, pagesize=letter)\n",
    "    width, height = letter\n",
    "    \n",
    "    c.drawString(30, height - 50, \"Relatório de Demanda de Motores\")\n",
    "    \n",
    "    y_position = height - 80\n",
    "    c.drawString(30, y_position, \"Tipo\")\n",
    "    c.drawString(120, y_position, \"Potência (kW)\")\n",
    "    c.drawString(200, y_position, \"Quantidade\")\n",
    "    c.drawString(300, y_position, \"Demanda (kVA)\")\n",
    "    c.drawString(380, y_position, \"Fator de Demanda\")\n",
    "    c.drawString(470, y_position, \"Descrição\")\n",
    "    \n",
    "    y_position -= 20\n",
    "    total_kva = 0\n",
    "    \n",
    "    for motor in motores:\n",
    "        c.drawString(30, y_position, motor['tipo'])\n",
    "        c.drawString(120, y_position, str(motor['potencia']))\n",
    "        c.drawString(200, y_position, str(motor['quantidade']))\n",
    "        c.drawString(300, y_position, f\"{motor['kva']:.2f}\")\n",
    "        c.drawString(380, y_position, f\"{motor['fator']:.3f}\")\n",
    "        c.drawString(470, y_position, motor['descricao'])\n",
    "        y_position -= 20\n",
    "        total_kva += motor['kva']\n",
    "    \n",
    "    y_position -= 20\n",
    "    c.drawString(30, y_position, f\"Demanda Total: {total_kva:.2f} kVA\")\n",
    "    \n",
    "    c.save()\n",
    "    return pdf_path\n",
    "\n",
    "# Interface com Streamlit\n",
    "st.title(\"Gerenciamento de Motores\")\n",
    "\n",
    "# Seção de entrada de dados\n",
    "tipo = st.selectbox(\"Tipo de Motor\", [\"Trifásico\", \"Monofásico\"])\n",
    "potencia_str = st.selectbox(\"Potência (kW)\", [str(p) for p in (tabela_trifasico.keys() if tipo == 'Trifásico' else tabela_monofasico.keys())])\n",
    "quantidade = st.number_input(\"Quantidade\", min_value=1, max_value=10, step=1)\n",
    "descricao = st.text_input(\"Descrição do Motor\")\n",
    "\n",
    "# Lista de motores adicionados\n",
    "motores = []\n",
    "\n",
    "# Botões de ação\n",
    "if st.button(\"Adicionar Motor\"):\n",
    "    potencia = Fraction(potencia_str)\n",
    "    kva, fator = calcular_kva(tipo, potencia, quantidade)\n",
    "    if kva is not None:\n",
    "        motores.append({\n",
    "            'tipo': tipo,\n",
    "            'potencia': potencia,\n",
    "            'quantidade': quantidade,\n",
    "            'kva': kva,\n",
    "            'fator': fator,\n",
    "            'descricao': descricao\n",
    "        })\n",
    "        st.success(\"Motor adicionado com sucesso!\")\n",
    "    else:\n",
    "        st.error(\"Erro ao calcular a demanda em kVA. Verifique os dados inseridos.\")\n",
    "\n",
    "if st.button(\"Calcular Total\"):\n",
    "    total_kva = sum(motor['kva'] for motor in motores)\n",
    "    st.info(f\"Demanda total: {total_kva:.2f} kVA\")\n",
    "\n",
    "if st.button(\"Gerar Relatório\"):\n",
    "    if motores:\n",
    "        pdf_path = gerar_relatorio_pdf(motores)\n",
    "        st.success(f\"Relatório gerado com sucesso: {pdf_path}\")\n",
    "        st.write(\"Baixar relatório:\", pdf_path)\n",
    "    else:\n",
    "        st.warning(\"Nenhum motor adicionado para gerar o relatório.\")\n",
    "\n",
    "# Exibição dos motores\n",
    "st.subheader(\"Lista de Motores Adicionados\")\n",
    "for motor in motores:\n",
    "    st.write(f\"**Tipo**: {motor['tipo']} | **Potência**: {motor['potencia']} kW | **Quantidade**: {motor['quantidade']} | **kVA**: {motor['kva']:.2f} | **Fator**: {motor['fator']:.3f} | **Descrição**: {motor['descricao']}\")\n"
   ]
  },
  {
   "cell_type": "markdown",
   "id": "7326e989-18ae-446f-9997-ff6e9a35e33d",
   "metadata": {},
   "source": [
    "Acesse o local com CMD:"
   ]
  },
  {
   "cell_type": "code",
   "execution_count": 15,
   "id": "6b9bb8c2-5de5-44da-a77b-5a4b20cd6c2f",
   "metadata": {
    "editable": true,
    "slideshow": {
     "slide_type": ""
    },
    "tags": []
   },
   "outputs": [
    {
     "name": "stdout",
     "output_type": "stream",
     "text": [
      "C:\\Users\\an053116\\Documents\\01 - Códigos python\\Calculo demanda\\Dimensionamento motor\n"
     ]
    }
   ],
   "source": [
    "cd C:\\Users\\an053116\\Documents\\01 - Códigos python\\Calculo demanda\\Dimensionamento motor"
   ]
  },
  {
   "cell_type": "code",
   "execution_count": 18,
   "id": "66c7b07e-4a9d-4d6b-9a85-dd0a2ae811b8",
   "metadata": {
    "editable": true,
    "slideshow": {
     "slide_type": ""
    },
    "tags": []
   },
   "outputs": [
    {
     "ename": "SyntaxError",
     "evalue": "invalid syntax (3275849176.py, line 1)",
     "output_type": "error",
     "traceback": [
      "\u001b[1;36m  Cell \u001b[1;32mIn[18], line 1\u001b[1;36m\u001b[0m\n\u001b[1;33m    streamlit run DimensionamentoMotorStreamlit.py\u001b[0m\n\u001b[1;37m              ^\u001b[0m\n\u001b[1;31mSyntaxError\u001b[0m\u001b[1;31m:\u001b[0m invalid syntax\n"
     ]
    }
   ],
   "source": [
    "streamlit run DimensionamentoMotorStreamlit.py"
   ]
  },
  {
   "cell_type": "code",
   "execution_count": null,
   "id": "b19631c3-8006-4a11-8102-62dcd5348b8e",
   "metadata": {},
   "outputs": [],
   "source": []
  }
 ],
 "metadata": {
  "kernelspec": {
   "display_name": "Python 3 (ipykernel)",
   "language": "python",
   "name": "python3"
  },
  "language_info": {
   "codemirror_mode": {
    "name": "ipython",
    "version": 3
   },
   "file_extension": ".py",
   "mimetype": "text/x-python",
   "name": "python",
   "nbconvert_exporter": "python",
   "pygments_lexer": "ipython3",
   "version": "3.12.4"
  }
 },
 "nbformat": 4,
 "nbformat_minor": 5
}
